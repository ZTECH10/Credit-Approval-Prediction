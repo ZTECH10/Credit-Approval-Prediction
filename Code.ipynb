{
 "cells": [
  {
   "cell_type": "markdown",
   "id": "52b882b5",
   "metadata": {
    "cell_id": "00000-74fb8767-63c8-4bae-be17-090ea83c3775",
    "deepnote_cell_type": "markdown"
   },
   "source": [
    "#  ML Classification Project - Credit Card Approvals \n",
    "Commercial banks receive many applications for credit cards every day. Manually analyzing them is time-consuming. Nowadays, commercial banks can use machine learning to automate this process. In this project, I will build a credit card approval predictor that makes decisions about whether an application should be approved or rejected. This is a classification problem because the task is to predict who should be given credit and who should not.\n",
    "\n",
    "Task Feature Description:\n",
    "\n",
    "BAD: 1 = Client defaulted on previous loan; 0 = loan repaid (i.e., 1 means bad)\n",
    "DEBTINC: Debt-to-income ratio\n",
    "DELINQ: Number of delinquent credit lines\n",
    "DEROG: Number of major derogatory reports\n",
    "VALUE: Value of Current Property\n",
    "CLAGE: Age of oldest tradeline in months"
   ]
  },
  {
   "cell_type": "markdown",
   "id": "7874ff34",
   "metadata": {
    "cell_id": "00001-0f202171-0c90-4618-a5ff-8b7da6ea4730",
    "deepnote_cell_type": "markdown"
   },
   "source": [
    "## Importing the Libraries"
   ]
  },
  {
   "cell_type": "code",
   "execution_count": 148,
   "id": "b8a5012f",
   "metadata": {
    "cell_id": "00002-5c0ea34b-b24c-427f-8f6c-ca94d4084b1b",
    "deepnote_cell_type": "code",
    "deepnote_to_be_reexecuted": false,
    "execution_millis": 6353,
    "execution_start": 1636984429389,
    "source_hash": "1c497b28"
   },
   "outputs": [],
   "source": [
    "import numpy as np \n",
    "import pandas as pd \n",
    "from matplotlib import pyplot as plt\n",
    "import seaborn as sns\n",
    "import plotly.express as px"
   ]
  },
  {
   "cell_type": "markdown",
   "id": "bdac6326",
   "metadata": {
    "cell_id": "00003-2aacd118-5323-4226-bb4e-1089d86303a6",
    "deepnote_cell_type": "markdown"
   },
   "source": [
    "## Importing the Dataset"
   ]
  },
  {
   "cell_type": "code",
   "execution_count": 149,
   "id": "94b11606",
   "metadata": {
    "cell_id": "00004-11684b31-36d5-46f5-acb0-e44598484127",
    "deepnote_cell_type": "code",
    "deepnote_to_be_reexecuted": false,
    "execution_millis": 932,
    "execution_start": 1636984435750,
    "source_hash": "d84ff7bf"
   },
   "outputs": [],
   "source": [
    "dataset = pd.read_csv('Credit data.csv') \n"
   ]
  },
  {
   "cell_type": "markdown",
   "id": "324bc33a",
   "metadata": {
    "cell_id": "00005-31391832-f6dc-4e68-9ec1-01247d1796c5",
    "deepnote_cell_type": "markdown"
   },
   "source": [
    "## Showing the Dataset in a Table"
   ]
  },
  {
   "cell_type": "code",
   "execution_count": 150,
   "id": "38f9b9f0",
   "metadata": {
    "cell_id": "00006-5c4ba384-7c30-4ff9-83b8-3ad10e941e6c",
    "deepnote_cell_type": "code",
    "deepnote_output_heights": [
     382
    ],
    "deepnote_to_be_reexecuted": false,
    "execution_millis": 125,
    "execution_start": 1636984436693,
    "source_hash": "c96add58"
   },
   "outputs": [
    {
     "data": {
      "text/html": [
       "<div>\n",
       "<style scoped>\n",
       "    .dataframe tbody tr th:only-of-type {\n",
       "        vertical-align: middle;\n",
       "    }\n",
       "\n",
       "    .dataframe tbody tr th {\n",
       "        vertical-align: top;\n",
       "    }\n",
       "\n",
       "    .dataframe thead th {\n",
       "        text-align: right;\n",
       "    }\n",
       "</style>\n",
       "<table border=\"1\" class=\"dataframe\">\n",
       "  <thead>\n",
       "    <tr style=\"text-align: right;\">\n",
       "      <th></th>\n",
       "      <th>Unnamed: 0</th>\n",
       "      <th>BAD</th>\n",
       "      <th>DEBTINC</th>\n",
       "      <th>DELINQ</th>\n",
       "      <th>DEROG</th>\n",
       "      <th>VALUE</th>\n",
       "      <th>CLAGE</th>\n",
       "    </tr>\n",
       "  </thead>\n",
       "  <tbody>\n",
       "    <tr>\n",
       "      <th>0</th>\n",
       "      <td>0</td>\n",
       "      <td>0</td>\n",
       "      <td>28.749890</td>\n",
       "      <td>0</td>\n",
       "      <td>0.0</td>\n",
       "      <td>89082.0</td>\n",
       "      <td>217.321155</td>\n",
       "    </tr>\n",
       "    <tr>\n",
       "      <th>1</th>\n",
       "      <td>1</td>\n",
       "      <td>0</td>\n",
       "      <td>41.447506</td>\n",
       "      <td>1</td>\n",
       "      <td>0.0</td>\n",
       "      <td>194992.0</td>\n",
       "      <td>337.689972</td>\n",
       "    </tr>\n",
       "    <tr>\n",
       "      <th>2</th>\n",
       "      <td>2</td>\n",
       "      <td>0</td>\n",
       "      <td>29.964687</td>\n",
       "      <td>0</td>\n",
       "      <td>0.0</td>\n",
       "      <td>63601.0</td>\n",
       "      <td>153.735399</td>\n",
       "    </tr>\n",
       "    <tr>\n",
       "      <th>3</th>\n",
       "      <td>3</td>\n",
       "      <td>0</td>\n",
       "      <td>38.251392</td>\n",
       "      <td>0</td>\n",
       "      <td>0.0</td>\n",
       "      <td>37391.0</td>\n",
       "      <td>217.744275</td>\n",
       "    </tr>\n",
       "    <tr>\n",
       "      <th>4</th>\n",
       "      <td>4</td>\n",
       "      <td>1</td>\n",
       "      <td>43.159875</td>\n",
       "      <td>1</td>\n",
       "      <td>0.0</td>\n",
       "      <td>81922.0</td>\n",
       "      <td>120.885811</td>\n",
       "    </tr>\n",
       "    <tr>\n",
       "      <th>...</th>\n",
       "      <td>...</td>\n",
       "      <td>...</td>\n",
       "      <td>...</td>\n",
       "      <td>...</td>\n",
       "      <td>...</td>\n",
       "      <td>...</td>\n",
       "      <td>...</td>\n",
       "    </tr>\n",
       "    <tr>\n",
       "      <th>619</th>\n",
       "      <td>619</td>\n",
       "      <td>0</td>\n",
       "      <td>1.000000</td>\n",
       "      <td>1</td>\n",
       "      <td>NaN</td>\n",
       "      <td>122021.0</td>\n",
       "      <td>143.000000</td>\n",
       "    </tr>\n",
       "    <tr>\n",
       "      <th>620</th>\n",
       "      <td>620</td>\n",
       "      <td>0</td>\n",
       "      <td>149.823437</td>\n",
       "      <td>0</td>\n",
       "      <td>0.0</td>\n",
       "      <td>318005.0</td>\n",
       "      <td>768.676993</td>\n",
       "    </tr>\n",
       "    <tr>\n",
       "      <th>621</th>\n",
       "      <td>621</td>\n",
       "      <td>0</td>\n",
       "      <td>149.823437</td>\n",
       "      <td>0</td>\n",
       "      <td>0.0</td>\n",
       "      <td>318005.0</td>\n",
       "      <td>768.676993</td>\n",
       "    </tr>\n",
       "    <tr>\n",
       "      <th>622</th>\n",
       "      <td>622</td>\n",
       "      <td>0</td>\n",
       "      <td>149.823437</td>\n",
       "      <td>0</td>\n",
       "      <td>0.0</td>\n",
       "      <td>318005.0</td>\n",
       "      <td>768.676993</td>\n",
       "    </tr>\n",
       "    <tr>\n",
       "      <th>623</th>\n",
       "      <td>623</td>\n",
       "      <td>0</td>\n",
       "      <td>149.823437</td>\n",
       "      <td>0</td>\n",
       "      <td>0.0</td>\n",
       "      <td>318005.0</td>\n",
       "      <td>768.676993</td>\n",
       "    </tr>\n",
       "  </tbody>\n",
       "</table>\n",
       "<p>624 rows × 7 columns</p>\n",
       "</div>"
      ],
      "text/plain": [
       "     Unnamed: 0  BAD     DEBTINC  DELINQ  DEROG     VALUE       CLAGE\n",
       "0             0    0   28.749890       0    0.0   89082.0  217.321155\n",
       "1             1    0   41.447506       1    0.0  194992.0  337.689972\n",
       "2             2    0   29.964687       0    0.0   63601.0  153.735399\n",
       "3             3    0   38.251392       0    0.0   37391.0  217.744275\n",
       "4             4    1   43.159875       1    0.0   81922.0  120.885811\n",
       "..          ...  ...         ...     ...    ...       ...         ...\n",
       "619         619    0    1.000000       1    NaN  122021.0  143.000000\n",
       "620         620    0  149.823437       0    0.0  318005.0  768.676993\n",
       "621         621    0  149.823437       0    0.0  318005.0  768.676993\n",
       "622         622    0  149.823437       0    0.0  318005.0  768.676993\n",
       "623         623    0  149.823437       0    0.0  318005.0  768.676993\n",
       "\n",
       "[624 rows x 7 columns]"
      ]
     },
     "execution_count": 150,
     "metadata": {},
     "output_type": "execute_result"
    }
   ],
   "source": [
    "pd.DataFrame(dataset)"
   ]
  },
  {
   "cell_type": "markdown",
   "id": "2a71c16c",
   "metadata": {
    "cell_id": "00007-b87a768d-b8da-4f7f-80c3-7099bbce65e3",
    "deepnote_cell_type": "markdown"
   },
   "source": [
    "## A Quick Review of the Data"
   ]
  },
  {
   "cell_type": "code",
   "execution_count": 151,
   "id": "50df344c",
   "metadata": {
    "cell_id": "00008-9b291492-70b5-46db-b54a-da964b01d316",
    "deepnote_cell_type": "code",
    "deepnote_to_be_reexecuted": false,
    "execution_millis": 3,
    "execution_start": 1636984436909,
    "source_hash": "90f3a161"
   },
   "outputs": [
    {
     "name": "stdout",
     "output_type": "stream",
     "text": [
      "<class 'pandas.core.frame.DataFrame'>\n",
      "RangeIndex: 624 entries, 0 to 623\n",
      "Data columns (total 7 columns):\n",
      " #   Column      Non-Null Count  Dtype  \n",
      "---  ------      --------------  -----  \n",
      " 0   Unnamed: 0  624 non-null    int64  \n",
      " 1   BAD         624 non-null    int64  \n",
      " 2   DEBTINC     623 non-null    float64\n",
      " 3   DELINQ      624 non-null    int64  \n",
      " 4   DEROG       622 non-null    float64\n",
      " 5   VALUE       623 non-null    float64\n",
      " 6   CLAGE       624 non-null    float64\n",
      "dtypes: float64(4), int64(3)\n",
      "memory usage: 34.2 KB\n"
     ]
    }
   ],
   "source": [
    "dataset.info()"
   ]
  },
  {
   "cell_type": "markdown",
   "id": "606b869e",
   "metadata": {},
   "source": [
    "## Preprocessing the Data for Machine Learning"
   ]
  },
  {
   "cell_type": "markdown",
   "id": "4706c50f",
   "metadata": {},
   "source": [
    "### Removing duplicates"
   ]
  },
  {
   "cell_type": "code",
   "execution_count": 152,
   "id": "ac5ca010",
   "metadata": {},
   "outputs": [
    {
     "data": {
      "text/plain": [
       "0"
      ]
     },
     "execution_count": 152,
     "metadata": {},
     "output_type": "execute_result"
    }
   ],
   "source": [
    "# Let us take a look at the total number of duplicate rows in the dataset\n",
    "(dataset.duplicated()).sum()"
   ]
  },
  {
   "cell_type": "code",
   "execution_count": 153,
   "id": "91ebb277",
   "metadata": {},
   "outputs": [
    {
     "data": {
      "text/plain": [
       "624"
      ]
     },
     "execution_count": 153,
     "metadata": {},
     "output_type": "execute_result"
    }
   ],
   "source": [
    "# Let us take a look at the total number of non-duplicate rows in the dataset\n",
    "(~dataset.duplicated()).sum()"
   ]
  },
  {
   "cell_type": "markdown",
   "id": "e935b125",
   "metadata": {},
   "source": [
    "So, we have only ZERO duplicates and  no need to take any action."
   ]
  },
  {
   "cell_type": "markdown",
   "id": "1a3dd226",
   "metadata": {},
   "source": [
    "### Dropping records (observations) with missing values"
   ]
  },
  {
   "cell_type": "code",
   "execution_count": 154,
   "id": "ae410594",
   "metadata": {},
   "outputs": [
    {
     "data": {
      "text/plain": [
       "True"
      ]
     },
     "execution_count": 154,
     "metadata": {},
     "output_type": "execute_result"
    }
   ],
   "source": [
    "# Checking if the dataset contains any NULL values\n",
    "dataset.isnull().any().any()"
   ]
  },
  {
   "cell_type": "code",
   "execution_count": 155,
   "id": "a006393d",
   "metadata": {
    "scrolled": true
   },
   "outputs": [
    {
     "name": "stdout",
     "output_type": "stream",
     "text": [
      "<class 'pandas.core.frame.DataFrame'>\n",
      "RangeIndex: 624 entries, 0 to 623\n",
      "Data columns (total 7 columns):\n",
      " #   Column      Non-Null Count  Dtype  \n",
      "---  ------      --------------  -----  \n",
      " 0   Unnamed: 0  624 non-null    int64  \n",
      " 1   BAD         624 non-null    int64  \n",
      " 2   DEBTINC     623 non-null    float64\n",
      " 3   DELINQ      624 non-null    int64  \n",
      " 4   DEROG       622 non-null    float64\n",
      " 5   VALUE       623 non-null    float64\n",
      " 6   CLAGE       624 non-null    float64\n",
      "dtypes: float64(4), int64(3)\n",
      "memory usage: 34.2 KB\n"
     ]
    }
   ],
   "source": [
    "# A quick review of the data to find where the missing values are :\n",
    "dataset.info()"
   ]
  },
  {
   "cell_type": "code",
   "execution_count": 156,
   "id": "9e81887c",
   "metadata": {},
   "outputs": [],
   "source": [
    "# Let us drop rows with missing values using dropna() function  \n",
    "dataset.dropna(inplace=True)"
   ]
  },
  {
   "cell_type": "code",
   "execution_count": 157,
   "id": "2e47f371",
   "metadata": {},
   "outputs": [
    {
     "data": {
      "text/html": [
       "<div>\n",
       "<style scoped>\n",
       "    .dataframe tbody tr th:only-of-type {\n",
       "        vertical-align: middle;\n",
       "    }\n",
       "\n",
       "    .dataframe tbody tr th {\n",
       "        vertical-align: top;\n",
       "    }\n",
       "\n",
       "    .dataframe thead th {\n",
       "        text-align: right;\n",
       "    }\n",
       "</style>\n",
       "<table border=\"1\" class=\"dataframe\">\n",
       "  <thead>\n",
       "    <tr style=\"text-align: right;\">\n",
       "      <th></th>\n",
       "      <th>Unnamed: 0</th>\n",
       "      <th>BAD</th>\n",
       "      <th>DEBTINC</th>\n",
       "      <th>DELINQ</th>\n",
       "      <th>DEROG</th>\n",
       "      <th>VALUE</th>\n",
       "      <th>CLAGE</th>\n",
       "    </tr>\n",
       "  </thead>\n",
       "  <tbody>\n",
       "    <tr>\n",
       "      <th>0</th>\n",
       "      <td>0</td>\n",
       "      <td>0</td>\n",
       "      <td>28.749890</td>\n",
       "      <td>0</td>\n",
       "      <td>0.0</td>\n",
       "      <td>89082.0</td>\n",
       "      <td>217.321155</td>\n",
       "    </tr>\n",
       "    <tr>\n",
       "      <th>1</th>\n",
       "      <td>1</td>\n",
       "      <td>0</td>\n",
       "      <td>41.447506</td>\n",
       "      <td>1</td>\n",
       "      <td>0.0</td>\n",
       "      <td>194992.0</td>\n",
       "      <td>337.689972</td>\n",
       "    </tr>\n",
       "    <tr>\n",
       "      <th>2</th>\n",
       "      <td>2</td>\n",
       "      <td>0</td>\n",
       "      <td>29.964687</td>\n",
       "      <td>0</td>\n",
       "      <td>0.0</td>\n",
       "      <td>63601.0</td>\n",
       "      <td>153.735399</td>\n",
       "    </tr>\n",
       "    <tr>\n",
       "      <th>3</th>\n",
       "      <td>3</td>\n",
       "      <td>0</td>\n",
       "      <td>38.251392</td>\n",
       "      <td>0</td>\n",
       "      <td>0.0</td>\n",
       "      <td>37391.0</td>\n",
       "      <td>217.744275</td>\n",
       "    </tr>\n",
       "    <tr>\n",
       "      <th>4</th>\n",
       "      <td>4</td>\n",
       "      <td>1</td>\n",
       "      <td>43.159875</td>\n",
       "      <td>1</td>\n",
       "      <td>0.0</td>\n",
       "      <td>81922.0</td>\n",
       "      <td>120.885811</td>\n",
       "    </tr>\n",
       "    <tr>\n",
       "      <th>...</th>\n",
       "      <td>...</td>\n",
       "      <td>...</td>\n",
       "      <td>...</td>\n",
       "      <td>...</td>\n",
       "      <td>...</td>\n",
       "      <td>...</td>\n",
       "      <td>...</td>\n",
       "    </tr>\n",
       "    <tr>\n",
       "      <th>617</th>\n",
       "      <td>617</td>\n",
       "      <td>0</td>\n",
       "      <td>39.483914</td>\n",
       "      <td>0</td>\n",
       "      <td>0.0</td>\n",
       "      <td>237546.0</td>\n",
       "      <td>291.633415</td>\n",
       "    </tr>\n",
       "    <tr>\n",
       "      <th>620</th>\n",
       "      <td>620</td>\n",
       "      <td>0</td>\n",
       "      <td>149.823437</td>\n",
       "      <td>0</td>\n",
       "      <td>0.0</td>\n",
       "      <td>318005.0</td>\n",
       "      <td>768.676993</td>\n",
       "    </tr>\n",
       "    <tr>\n",
       "      <th>621</th>\n",
       "      <td>621</td>\n",
       "      <td>0</td>\n",
       "      <td>149.823437</td>\n",
       "      <td>0</td>\n",
       "      <td>0.0</td>\n",
       "      <td>318005.0</td>\n",
       "      <td>768.676993</td>\n",
       "    </tr>\n",
       "    <tr>\n",
       "      <th>622</th>\n",
       "      <td>622</td>\n",
       "      <td>0</td>\n",
       "      <td>149.823437</td>\n",
       "      <td>0</td>\n",
       "      <td>0.0</td>\n",
       "      <td>318005.0</td>\n",
       "      <td>768.676993</td>\n",
       "    </tr>\n",
       "    <tr>\n",
       "      <th>623</th>\n",
       "      <td>623</td>\n",
       "      <td>0</td>\n",
       "      <td>149.823437</td>\n",
       "      <td>0</td>\n",
       "      <td>0.0</td>\n",
       "      <td>318005.0</td>\n",
       "      <td>768.676993</td>\n",
       "    </tr>\n",
       "  </tbody>\n",
       "</table>\n",
       "<p>622 rows × 7 columns</p>\n",
       "</div>"
      ],
      "text/plain": [
       "     Unnamed: 0  BAD     DEBTINC  DELINQ  DEROG     VALUE       CLAGE\n",
       "0             0    0   28.749890       0    0.0   89082.0  217.321155\n",
       "1             1    0   41.447506       1    0.0  194992.0  337.689972\n",
       "2             2    0   29.964687       0    0.0   63601.0  153.735399\n",
       "3             3    0   38.251392       0    0.0   37391.0  217.744275\n",
       "4             4    1   43.159875       1    0.0   81922.0  120.885811\n",
       "..          ...  ...         ...     ...    ...       ...         ...\n",
       "617         617    0   39.483914       0    0.0  237546.0  291.633415\n",
       "620         620    0  149.823437       0    0.0  318005.0  768.676993\n",
       "621         621    0  149.823437       0    0.0  318005.0  768.676993\n",
       "622         622    0  149.823437       0    0.0  318005.0  768.676993\n",
       "623         623    0  149.823437       0    0.0  318005.0  768.676993\n",
       "\n",
       "[622 rows x 7 columns]"
      ]
     },
     "execution_count": 157,
     "metadata": {},
     "output_type": "execute_result"
    }
   ],
   "source": [
    "#checking the dataset \n",
    "dataset"
   ]
  },
  {
   "cell_type": "code",
   "execution_count": 158,
   "id": "bb1cb7be",
   "metadata": {},
   "outputs": [
    {
     "name": "stdout",
     "output_type": "stream",
     "text": [
      "<class 'pandas.core.frame.DataFrame'>\n",
      "Int64Index: 622 entries, 0 to 623\n",
      "Data columns (total 7 columns):\n",
      " #   Column      Non-Null Count  Dtype  \n",
      "---  ------      --------------  -----  \n",
      " 0   Unnamed: 0  622 non-null    int64  \n",
      " 1   BAD         622 non-null    int64  \n",
      " 2   DEBTINC     622 non-null    float64\n",
      " 3   DELINQ      622 non-null    int64  \n",
      " 4   DEROG       622 non-null    float64\n",
      " 5   VALUE       622 non-null    float64\n",
      " 6   CLAGE       622 non-null    float64\n",
      "dtypes: float64(4), int64(3)\n",
      "memory usage: 38.9 KB\n"
     ]
    }
   ],
   "source": [
    "#A quick review of the data\n",
    "dataset.info()"
   ]
  },
  {
   "cell_type": "markdown",
   "id": "829ed127",
   "metadata": {},
   "source": [
    "### Seperating the input data from the output data"
   ]
  },
  {
   "cell_type": "code",
   "execution_count": 159,
   "id": "97a282d0",
   "metadata": {},
   "outputs": [],
   "source": [
    "X = dataset.iloc[:, 2:].values\n",
    "y = dataset.iloc[:, 1].values\n"
   ]
  },
  {
   "cell_type": "code",
   "execution_count": 160,
   "id": "56cd3555",
   "metadata": {},
   "outputs": [
    {
     "data": {
      "text/html": [
       "<div>\n",
       "<style scoped>\n",
       "    .dataframe tbody tr th:only-of-type {\n",
       "        vertical-align: middle;\n",
       "    }\n",
       "\n",
       "    .dataframe tbody tr th {\n",
       "        vertical-align: top;\n",
       "    }\n",
       "\n",
       "    .dataframe thead th {\n",
       "        text-align: right;\n",
       "    }\n",
       "</style>\n",
       "<table border=\"1\" class=\"dataframe\">\n",
       "  <thead>\n",
       "    <tr style=\"text-align: right;\">\n",
       "      <th></th>\n",
       "      <th>Unnamed: 0</th>\n",
       "      <th>BAD</th>\n",
       "      <th>DEBTINC</th>\n",
       "      <th>DELINQ</th>\n",
       "      <th>DEROG</th>\n",
       "      <th>VALUE</th>\n",
       "      <th>CLAGE</th>\n",
       "    </tr>\n",
       "  </thead>\n",
       "  <tbody>\n",
       "    <tr>\n",
       "      <th>0</th>\n",
       "      <td>0</td>\n",
       "      <td>0</td>\n",
       "      <td>28.749890</td>\n",
       "      <td>0</td>\n",
       "      <td>0.0</td>\n",
       "      <td>89082.0</td>\n",
       "      <td>217.321155</td>\n",
       "    </tr>\n",
       "    <tr>\n",
       "      <th>1</th>\n",
       "      <td>1</td>\n",
       "      <td>0</td>\n",
       "      <td>41.447506</td>\n",
       "      <td>1</td>\n",
       "      <td>0.0</td>\n",
       "      <td>194992.0</td>\n",
       "      <td>337.689972</td>\n",
       "    </tr>\n",
       "    <tr>\n",
       "      <th>2</th>\n",
       "      <td>2</td>\n",
       "      <td>0</td>\n",
       "      <td>29.964687</td>\n",
       "      <td>0</td>\n",
       "      <td>0.0</td>\n",
       "      <td>63601.0</td>\n",
       "      <td>153.735399</td>\n",
       "    </tr>\n",
       "    <tr>\n",
       "      <th>3</th>\n",
       "      <td>3</td>\n",
       "      <td>0</td>\n",
       "      <td>38.251392</td>\n",
       "      <td>0</td>\n",
       "      <td>0.0</td>\n",
       "      <td>37391.0</td>\n",
       "      <td>217.744275</td>\n",
       "    </tr>\n",
       "    <tr>\n",
       "      <th>4</th>\n",
       "      <td>4</td>\n",
       "      <td>1</td>\n",
       "      <td>43.159875</td>\n",
       "      <td>1</td>\n",
       "      <td>0.0</td>\n",
       "      <td>81922.0</td>\n",
       "      <td>120.885811</td>\n",
       "    </tr>\n",
       "    <tr>\n",
       "      <th>...</th>\n",
       "      <td>...</td>\n",
       "      <td>...</td>\n",
       "      <td>...</td>\n",
       "      <td>...</td>\n",
       "      <td>...</td>\n",
       "      <td>...</td>\n",
       "      <td>...</td>\n",
       "    </tr>\n",
       "    <tr>\n",
       "      <th>617</th>\n",
       "      <td>617</td>\n",
       "      <td>0</td>\n",
       "      <td>39.483914</td>\n",
       "      <td>0</td>\n",
       "      <td>0.0</td>\n",
       "      <td>237546.0</td>\n",
       "      <td>291.633415</td>\n",
       "    </tr>\n",
       "    <tr>\n",
       "      <th>620</th>\n",
       "      <td>620</td>\n",
       "      <td>0</td>\n",
       "      <td>149.823437</td>\n",
       "      <td>0</td>\n",
       "      <td>0.0</td>\n",
       "      <td>318005.0</td>\n",
       "      <td>768.676993</td>\n",
       "    </tr>\n",
       "    <tr>\n",
       "      <th>621</th>\n",
       "      <td>621</td>\n",
       "      <td>0</td>\n",
       "      <td>149.823437</td>\n",
       "      <td>0</td>\n",
       "      <td>0.0</td>\n",
       "      <td>318005.0</td>\n",
       "      <td>768.676993</td>\n",
       "    </tr>\n",
       "    <tr>\n",
       "      <th>622</th>\n",
       "      <td>622</td>\n",
       "      <td>0</td>\n",
       "      <td>149.823437</td>\n",
       "      <td>0</td>\n",
       "      <td>0.0</td>\n",
       "      <td>318005.0</td>\n",
       "      <td>768.676993</td>\n",
       "    </tr>\n",
       "    <tr>\n",
       "      <th>623</th>\n",
       "      <td>623</td>\n",
       "      <td>0</td>\n",
       "      <td>149.823437</td>\n",
       "      <td>0</td>\n",
       "      <td>0.0</td>\n",
       "      <td>318005.0</td>\n",
       "      <td>768.676993</td>\n",
       "    </tr>\n",
       "  </tbody>\n",
       "</table>\n",
       "<p>622 rows × 7 columns</p>\n",
       "</div>"
      ],
      "text/plain": [
       "     Unnamed: 0  BAD     DEBTINC  DELINQ  DEROG     VALUE       CLAGE\n",
       "0             0    0   28.749890       0    0.0   89082.0  217.321155\n",
       "1             1    0   41.447506       1    0.0  194992.0  337.689972\n",
       "2             2    0   29.964687       0    0.0   63601.0  153.735399\n",
       "3             3    0   38.251392       0    0.0   37391.0  217.744275\n",
       "4             4    1   43.159875       1    0.0   81922.0  120.885811\n",
       "..          ...  ...         ...     ...    ...       ...         ...\n",
       "617         617    0   39.483914       0    0.0  237546.0  291.633415\n",
       "620         620    0  149.823437       0    0.0  318005.0  768.676993\n",
       "621         621    0  149.823437       0    0.0  318005.0  768.676993\n",
       "622         622    0  149.823437       0    0.0  318005.0  768.676993\n",
       "623         623    0  149.823437       0    0.0  318005.0  768.676993\n",
       "\n",
       "[622 rows x 7 columns]"
      ]
     },
     "execution_count": 160,
     "metadata": {},
     "output_type": "execute_result"
    }
   ],
   "source": [
    "dataset"
   ]
  },
  {
   "cell_type": "code",
   "execution_count": 161,
   "id": "4bdae00b",
   "metadata": {
    "cell_id": "00074-ab3c979d-1cd9-4df1-87be-13236ce6b319",
    "deepnote_cell_type": "code",
    "deepnote_output_heights": [
     382
    ],
    "deepnote_to_be_reexecuted": false,
    "execution_millis": 70,
    "execution_start": 1636984447809,
    "scrolled": false,
    "source_hash": "7eb14695"
   },
   "outputs": [
    {
     "data": {
      "text/html": [
       "<div>\n",
       "<style scoped>\n",
       "    .dataframe tbody tr th:only-of-type {\n",
       "        vertical-align: middle;\n",
       "    }\n",
       "\n",
       "    .dataframe tbody tr th {\n",
       "        vertical-align: top;\n",
       "    }\n",
       "\n",
       "    .dataframe thead th {\n",
       "        text-align: right;\n",
       "    }\n",
       "</style>\n",
       "<table border=\"1\" class=\"dataframe\">\n",
       "  <thead>\n",
       "    <tr style=\"text-align: right;\">\n",
       "      <th></th>\n",
       "      <th>0</th>\n",
       "      <th>1</th>\n",
       "      <th>2</th>\n",
       "      <th>3</th>\n",
       "      <th>4</th>\n",
       "    </tr>\n",
       "  </thead>\n",
       "  <tbody>\n",
       "    <tr>\n",
       "      <th>0</th>\n",
       "      <td>28.749890</td>\n",
       "      <td>0.0</td>\n",
       "      <td>0.0</td>\n",
       "      <td>89082.0</td>\n",
       "      <td>217.321155</td>\n",
       "    </tr>\n",
       "    <tr>\n",
       "      <th>1</th>\n",
       "      <td>41.447506</td>\n",
       "      <td>1.0</td>\n",
       "      <td>0.0</td>\n",
       "      <td>194992.0</td>\n",
       "      <td>337.689972</td>\n",
       "    </tr>\n",
       "    <tr>\n",
       "      <th>2</th>\n",
       "      <td>29.964687</td>\n",
       "      <td>0.0</td>\n",
       "      <td>0.0</td>\n",
       "      <td>63601.0</td>\n",
       "      <td>153.735399</td>\n",
       "    </tr>\n",
       "    <tr>\n",
       "      <th>3</th>\n",
       "      <td>38.251392</td>\n",
       "      <td>0.0</td>\n",
       "      <td>0.0</td>\n",
       "      <td>37391.0</td>\n",
       "      <td>217.744275</td>\n",
       "    </tr>\n",
       "    <tr>\n",
       "      <th>4</th>\n",
       "      <td>43.159875</td>\n",
       "      <td>1.0</td>\n",
       "      <td>0.0</td>\n",
       "      <td>81922.0</td>\n",
       "      <td>120.885811</td>\n",
       "    </tr>\n",
       "    <tr>\n",
       "      <th>...</th>\n",
       "      <td>...</td>\n",
       "      <td>...</td>\n",
       "      <td>...</td>\n",
       "      <td>...</td>\n",
       "      <td>...</td>\n",
       "    </tr>\n",
       "    <tr>\n",
       "      <th>617</th>\n",
       "      <td>39.483914</td>\n",
       "      <td>0.0</td>\n",
       "      <td>0.0</td>\n",
       "      <td>237546.0</td>\n",
       "      <td>291.633415</td>\n",
       "    </tr>\n",
       "    <tr>\n",
       "      <th>618</th>\n",
       "      <td>149.823437</td>\n",
       "      <td>0.0</td>\n",
       "      <td>0.0</td>\n",
       "      <td>318005.0</td>\n",
       "      <td>768.676993</td>\n",
       "    </tr>\n",
       "    <tr>\n",
       "      <th>619</th>\n",
       "      <td>149.823437</td>\n",
       "      <td>0.0</td>\n",
       "      <td>0.0</td>\n",
       "      <td>318005.0</td>\n",
       "      <td>768.676993</td>\n",
       "    </tr>\n",
       "    <tr>\n",
       "      <th>620</th>\n",
       "      <td>149.823437</td>\n",
       "      <td>0.0</td>\n",
       "      <td>0.0</td>\n",
       "      <td>318005.0</td>\n",
       "      <td>768.676993</td>\n",
       "    </tr>\n",
       "    <tr>\n",
       "      <th>621</th>\n",
       "      <td>149.823437</td>\n",
       "      <td>0.0</td>\n",
       "      <td>0.0</td>\n",
       "      <td>318005.0</td>\n",
       "      <td>768.676993</td>\n",
       "    </tr>\n",
       "  </tbody>\n",
       "</table>\n",
       "<p>622 rows × 5 columns</p>\n",
       "</div>"
      ],
      "text/plain": [
       "              0    1    2         3           4\n",
       "0     28.749890  0.0  0.0   89082.0  217.321155\n",
       "1     41.447506  1.0  0.0  194992.0  337.689972\n",
       "2     29.964687  0.0  0.0   63601.0  153.735399\n",
       "3     38.251392  0.0  0.0   37391.0  217.744275\n",
       "4     43.159875  1.0  0.0   81922.0  120.885811\n",
       "..          ...  ...  ...       ...         ...\n",
       "617   39.483914  0.0  0.0  237546.0  291.633415\n",
       "618  149.823437  0.0  0.0  318005.0  768.676993\n",
       "619  149.823437  0.0  0.0  318005.0  768.676993\n",
       "620  149.823437  0.0  0.0  318005.0  768.676993\n",
       "621  149.823437  0.0  0.0  318005.0  768.676993\n",
       "\n",
       "[622 rows x 5 columns]"
      ]
     },
     "execution_count": 161,
     "metadata": {},
     "output_type": "execute_result"
    }
   ],
   "source": [
    "pd.DataFrame(X)"
   ]
  },
  {
   "cell_type": "code",
   "execution_count": 162,
   "id": "2bee20c1",
   "metadata": {},
   "outputs": [
    {
     "data": {
      "text/plain": [
       "(622, 5)"
      ]
     },
     "execution_count": 162,
     "metadata": {},
     "output_type": "execute_result"
    }
   ],
   "source": [
    "X.shape"
   ]
  },
  {
   "cell_type": "code",
   "execution_count": 163,
   "id": "9994d549",
   "metadata": {},
   "outputs": [
    {
     "data": {
      "text/plain": [
       "(622,)"
      ]
     },
     "execution_count": 163,
     "metadata": {},
     "output_type": "execute_result"
    }
   ],
   "source": [
    "y.shape"
   ]
  },
  {
   "cell_type": "markdown",
   "id": "64eba2a2",
   "metadata": {
    "cell_id": "00075-0c6165c4-eab7-47d1-b7f5-ec4578bad744",
    "deepnote_cell_type": "markdown"
   },
   "source": [
    "### Taking care of outlier in the numerical data"
   ]
  },
  {
   "cell_type": "code",
   "execution_count": 164,
   "id": "c625afb3",
   "metadata": {
    "cell_id": "00076-fe2d23bc-48fa-4324-8df7-e73150c47f32",
    "deepnote_cell_type": "code",
    "deepnote_to_be_reexecuted": false,
    "execution_millis": 103,
    "execution_start": 1636984447881,
    "source_hash": "7994ed40"
   },
   "outputs": [
    {
     "name": "stdout",
     "output_type": "stream",
     "text": [
      "mask shape:  (622,)\n",
      "X shape (615, 5)\n",
      "y shape (615,)\n"
     ]
    },
    {
     "data": {
      "text/html": [
       "<div>\n",
       "<style scoped>\n",
       "    .dataframe tbody tr th:only-of-type {\n",
       "        vertical-align: middle;\n",
       "    }\n",
       "\n",
       "    .dataframe tbody tr th {\n",
       "        vertical-align: top;\n",
       "    }\n",
       "\n",
       "    .dataframe thead th {\n",
       "        text-align: right;\n",
       "    }\n",
       "</style>\n",
       "<table border=\"1\" class=\"dataframe\">\n",
       "  <thead>\n",
       "    <tr style=\"text-align: right;\">\n",
       "      <th></th>\n",
       "      <th>0</th>\n",
       "      <th>1</th>\n",
       "      <th>2</th>\n",
       "      <th>3</th>\n",
       "      <th>4</th>\n",
       "    </tr>\n",
       "  </thead>\n",
       "  <tbody>\n",
       "    <tr>\n",
       "      <th>0</th>\n",
       "      <td>28.749890</td>\n",
       "      <td>0.0</td>\n",
       "      <td>0.0</td>\n",
       "      <td>89082.0</td>\n",
       "      <td>217.321155</td>\n",
       "    </tr>\n",
       "    <tr>\n",
       "      <th>1</th>\n",
       "      <td>41.447506</td>\n",
       "      <td>1.0</td>\n",
       "      <td>0.0</td>\n",
       "      <td>194992.0</td>\n",
       "      <td>337.689972</td>\n",
       "    </tr>\n",
       "    <tr>\n",
       "      <th>2</th>\n",
       "      <td>29.964687</td>\n",
       "      <td>0.0</td>\n",
       "      <td>0.0</td>\n",
       "      <td>63601.0</td>\n",
       "      <td>153.735399</td>\n",
       "    </tr>\n",
       "    <tr>\n",
       "      <th>3</th>\n",
       "      <td>38.251392</td>\n",
       "      <td>0.0</td>\n",
       "      <td>0.0</td>\n",
       "      <td>37391.0</td>\n",
       "      <td>217.744275</td>\n",
       "    </tr>\n",
       "    <tr>\n",
       "      <th>4</th>\n",
       "      <td>43.159875</td>\n",
       "      <td>1.0</td>\n",
       "      <td>0.0</td>\n",
       "      <td>81922.0</td>\n",
       "      <td>120.885811</td>\n",
       "    </tr>\n",
       "    <tr>\n",
       "      <th>...</th>\n",
       "      <td>...</td>\n",
       "      <td>...</td>\n",
       "      <td>...</td>\n",
       "      <td>...</td>\n",
       "      <td>...</td>\n",
       "    </tr>\n",
       "    <tr>\n",
       "      <th>610</th>\n",
       "      <td>39.483914</td>\n",
       "      <td>0.0</td>\n",
       "      <td>0.0</td>\n",
       "      <td>237546.0</td>\n",
       "      <td>291.633415</td>\n",
       "    </tr>\n",
       "    <tr>\n",
       "      <th>611</th>\n",
       "      <td>149.823437</td>\n",
       "      <td>0.0</td>\n",
       "      <td>0.0</td>\n",
       "      <td>318005.0</td>\n",
       "      <td>768.676993</td>\n",
       "    </tr>\n",
       "    <tr>\n",
       "      <th>612</th>\n",
       "      <td>149.823437</td>\n",
       "      <td>0.0</td>\n",
       "      <td>0.0</td>\n",
       "      <td>318005.0</td>\n",
       "      <td>768.676993</td>\n",
       "    </tr>\n",
       "    <tr>\n",
       "      <th>613</th>\n",
       "      <td>149.823437</td>\n",
       "      <td>0.0</td>\n",
       "      <td>0.0</td>\n",
       "      <td>318005.0</td>\n",
       "      <td>768.676993</td>\n",
       "    </tr>\n",
       "    <tr>\n",
       "      <th>614</th>\n",
       "      <td>149.823437</td>\n",
       "      <td>0.0</td>\n",
       "      <td>0.0</td>\n",
       "      <td>318005.0</td>\n",
       "      <td>768.676993</td>\n",
       "    </tr>\n",
       "  </tbody>\n",
       "</table>\n",
       "<p>615 rows × 5 columns</p>\n",
       "</div>"
      ],
      "text/plain": [
       "              0    1    2         3           4\n",
       "0     28.749890  0.0  0.0   89082.0  217.321155\n",
       "1     41.447506  1.0  0.0  194992.0  337.689972\n",
       "2     29.964687  0.0  0.0   63601.0  153.735399\n",
       "3     38.251392  0.0  0.0   37391.0  217.744275\n",
       "4     43.159875  1.0  0.0   81922.0  120.885811\n",
       "..          ...  ...  ...       ...         ...\n",
       "610   39.483914  0.0  0.0  237546.0  291.633415\n",
       "611  149.823437  0.0  0.0  318005.0  768.676993\n",
       "612  149.823437  0.0  0.0  318005.0  768.676993\n",
       "613  149.823437  0.0  0.0  318005.0  768.676993\n",
       "614  149.823437  0.0  0.0  318005.0  768.676993\n",
       "\n",
       "[615 rows x 5 columns]"
      ]
     },
     "execution_count": 164,
     "metadata": {},
     "output_type": "execute_result"
    }
   ],
   "source": [
    "# Source 1: https://towardsdatascience.com/local-outlier-factor-lof-algorithm-for-outlier-identification-8efb887d9843\n",
    "# Source 2: https://towardsdatascience.com/anomaly-detection-with-local-outlier-factor-lof-d91e41df10f2\n",
    "#Local Outlier Factor (LOF) — Algorithm for outlier identification\n",
    "\n",
    "from sklearn.neighbors import LocalOutlierFactor\n",
    "lof = LocalOutlierFactor(contamination=0.01)\n",
    "\n",
    "# yhat has postive and negative values(i.e +1 & -1).Negative values are outliers \n",
    "# and positives inliers\n",
    "\n",
    "yhat = lof.fit_predict(X)\n",
    "\n",
    "\n",
    "# filter outlier values\n",
    "mask = (yhat != -1)\n",
    "\n",
    "print(\"mask shape: \",mask.shape)\n",
    "\n",
    "X, y = X[mask, :], y[mask]\n",
    "print(\"X shape\",X.shape)\n",
    "print(\"y shape\",y.shape)\n",
    "\n",
    "pd.DataFrame(X)"
   ]
  },
  {
   "cell_type": "markdown",
   "id": "8b732a9f",
   "metadata": {
    "cell_id": "00077-34bb7fab-343e-44a3-a115-da1dadd11be3",
    "deepnote_cell_type": "markdown"
   },
   "source": [
    "###  Splitting the dataset into the training set and test Set"
   ]
  },
  {
   "cell_type": "code",
   "execution_count": 165,
   "id": "fc4e2daa",
   "metadata": {
    "cell_id": "00078-e026a77e-7072-42b9-af31-8b13f77e9d8c",
    "deepnote_cell_type": "code",
    "deepnote_to_be_reexecuted": false,
    "execution_millis": 0,
    "execution_start": 1636984448038,
    "source_hash": "b2a2a99a"
   },
   "outputs": [],
   "source": [
    "from sklearn.model_selection import train_test_split\n",
    "X_train, X_test, y_train, y_test = train_test_split(X, y, test_size = 0.2, random_state = 0)"
   ]
  },
  {
   "cell_type": "code",
   "execution_count": 166,
   "id": "d161c462",
   "metadata": {
    "cell_id": "00079-420728a2-0326-4a69-b311-3384e8bb7183",
    "deepnote_cell_type": "code",
    "deepnote_to_be_reexecuted": false,
    "execution_millis": 61,
    "execution_start": 1636984448039,
    "source_hash": "274d2e12"
   },
   "outputs": [
    {
     "data": {
      "text/html": [
       "<div>\n",
       "<style scoped>\n",
       "    .dataframe tbody tr th:only-of-type {\n",
       "        vertical-align: middle;\n",
       "    }\n",
       "\n",
       "    .dataframe tbody tr th {\n",
       "        vertical-align: top;\n",
       "    }\n",
       "\n",
       "    .dataframe thead th {\n",
       "        text-align: right;\n",
       "    }\n",
       "</style>\n",
       "<table border=\"1\" class=\"dataframe\">\n",
       "  <thead>\n",
       "    <tr style=\"text-align: right;\">\n",
       "      <th></th>\n",
       "      <th>0</th>\n",
       "      <th>1</th>\n",
       "      <th>2</th>\n",
       "      <th>3</th>\n",
       "      <th>4</th>\n",
       "    </tr>\n",
       "  </thead>\n",
       "  <tbody>\n",
       "    <tr>\n",
       "      <th>0</th>\n",
       "      <td>91.612600</td>\n",
       "      <td>6.0</td>\n",
       "      <td>2.0</td>\n",
       "      <td>167164.0</td>\n",
       "      <td>111.588603</td>\n",
       "    </tr>\n",
       "    <tr>\n",
       "      <th>1</th>\n",
       "      <td>41.572972</td>\n",
       "      <td>0.0</td>\n",
       "      <td>0.0</td>\n",
       "      <td>114224.0</td>\n",
       "      <td>203.468979</td>\n",
       "    </tr>\n",
       "    <tr>\n",
       "      <th>2</th>\n",
       "      <td>32.656531</td>\n",
       "      <td>0.0</td>\n",
       "      <td>3.0</td>\n",
       "      <td>80147.0</td>\n",
       "      <td>244.233530</td>\n",
       "    </tr>\n",
       "    <tr>\n",
       "      <th>3</th>\n",
       "      <td>2.830297</td>\n",
       "      <td>1.0</td>\n",
       "      <td>2.0</td>\n",
       "      <td>128923.0</td>\n",
       "      <td>114.461955</td>\n",
       "    </tr>\n",
       "    <tr>\n",
       "      <th>4</th>\n",
       "      <td>40.845078</td>\n",
       "      <td>0.0</td>\n",
       "      <td>0.0</td>\n",
       "      <td>110253.0</td>\n",
       "      <td>192.422606</td>\n",
       "    </tr>\n",
       "    <tr>\n",
       "      <th>...</th>\n",
       "      <td>...</td>\n",
       "      <td>...</td>\n",
       "      <td>...</td>\n",
       "      <td>...</td>\n",
       "      <td>...</td>\n",
       "    </tr>\n",
       "    <tr>\n",
       "      <th>487</th>\n",
       "      <td>41.262353</td>\n",
       "      <td>0.0</td>\n",
       "      <td>0.0</td>\n",
       "      <td>72322.0</td>\n",
       "      <td>105.074802</td>\n",
       "    </tr>\n",
       "    <tr>\n",
       "      <th>488</th>\n",
       "      <td>38.121518</td>\n",
       "      <td>0.0</td>\n",
       "      <td>0.0</td>\n",
       "      <td>122352.0</td>\n",
       "      <td>58.861027</td>\n",
       "    </tr>\n",
       "    <tr>\n",
       "      <th>489</th>\n",
       "      <td>33.581117</td>\n",
       "      <td>0.0</td>\n",
       "      <td>0.0</td>\n",
       "      <td>107590.0</td>\n",
       "      <td>78.299274</td>\n",
       "    </tr>\n",
       "    <tr>\n",
       "      <th>490</th>\n",
       "      <td>36.665319</td>\n",
       "      <td>0.0</td>\n",
       "      <td>0.0</td>\n",
       "      <td>87260.0</td>\n",
       "      <td>103.692818</td>\n",
       "    </tr>\n",
       "    <tr>\n",
       "      <th>491</th>\n",
       "      <td>41.027967</td>\n",
       "      <td>0.0</td>\n",
       "      <td>1.0</td>\n",
       "      <td>84008.0</td>\n",
       "      <td>76.042087</td>\n",
       "    </tr>\n",
       "  </tbody>\n",
       "</table>\n",
       "<p>492 rows × 5 columns</p>\n",
       "</div>"
      ],
      "text/plain": [
       "             0    1    2         3           4\n",
       "0    91.612600  6.0  2.0  167164.0  111.588603\n",
       "1    41.572972  0.0  0.0  114224.0  203.468979\n",
       "2    32.656531  0.0  3.0   80147.0  244.233530\n",
       "3     2.830297  1.0  2.0  128923.0  114.461955\n",
       "4    40.845078  0.0  0.0  110253.0  192.422606\n",
       "..         ...  ...  ...       ...         ...\n",
       "487  41.262353  0.0  0.0   72322.0  105.074802\n",
       "488  38.121518  0.0  0.0  122352.0   58.861027\n",
       "489  33.581117  0.0  0.0  107590.0   78.299274\n",
       "490  36.665319  0.0  0.0   87260.0  103.692818\n",
       "491  41.027967  0.0  1.0   84008.0   76.042087\n",
       "\n",
       "[492 rows x 5 columns]"
      ]
     },
     "execution_count": 166,
     "metadata": {},
     "output_type": "execute_result"
    }
   ],
   "source": [
    "pd.DataFrame(X_train)"
   ]
  },
  {
   "cell_type": "markdown",
   "id": "1479e64a",
   "metadata": {
    "cell_id": "00080-96b08138-7035-4d27-b29e-4dc7b8090149",
    "deepnote_cell_type": "markdown"
   },
   "source": [
    "### Feature Scaling"
   ]
  },
  {
   "cell_type": "code",
   "execution_count": 167,
   "id": "7eec30b7",
   "metadata": {
    "cell_id": "00081-e5d3d31c-83ea-489c-9bb1-5a39bed32d7a",
    "deepnote_cell_type": "code",
    "deepnote_to_be_reexecuted": false,
    "execution_millis": 1,
    "execution_start": 1636984448146,
    "source_hash": "6447a509"
   },
   "outputs": [],
   "source": [
    "from sklearn.preprocessing import StandardScaler\n",
    "sc = StandardScaler()\n",
    "X_train = sc.fit_transform(X_train)\n",
    "X_test = sc.transform(X_test)\n"
   ]
  },
  {
   "cell_type": "code",
   "execution_count": 168,
   "id": "aff1a63d",
   "metadata": {
    "cell_id": "00082-89c7b4d4-1508-47b9-8096-399f7de0e3a3",
    "deepnote_cell_type": "code",
    "deepnote_to_be_reexecuted": false,
    "execution_millis": 47,
    "execution_start": 1636984448148,
    "source_hash": "274d2e12"
   },
   "outputs": [
    {
     "data": {
      "text/html": [
       "<div>\n",
       "<style scoped>\n",
       "    .dataframe tbody tr th:only-of-type {\n",
       "        vertical-align: middle;\n",
       "    }\n",
       "\n",
       "    .dataframe tbody tr th {\n",
       "        vertical-align: top;\n",
       "    }\n",
       "\n",
       "    .dataframe thead th {\n",
       "        text-align: right;\n",
       "    }\n",
       "</style>\n",
       "<table border=\"1\" class=\"dataframe\">\n",
       "  <thead>\n",
       "    <tr style=\"text-align: right;\">\n",
       "      <th></th>\n",
       "      <th>0</th>\n",
       "      <th>1</th>\n",
       "      <th>2</th>\n",
       "      <th>3</th>\n",
       "      <th>4</th>\n",
       "    </tr>\n",
       "  </thead>\n",
       "  <tbody>\n",
       "    <tr>\n",
       "      <th>0</th>\n",
       "      <td>3.407791</td>\n",
       "      <td>3.720047</td>\n",
       "      <td>1.555545</td>\n",
       "      <td>1.210328</td>\n",
       "      <td>-0.545263</td>\n",
       "    </tr>\n",
       "    <tr>\n",
       "      <th>1</th>\n",
       "      <td>0.253532</td>\n",
       "      <td>-0.438067</td>\n",
       "      <td>-0.355387</td>\n",
       "      <td>0.221112</td>\n",
       "      <td>0.370191</td>\n",
       "    </tr>\n",
       "    <tr>\n",
       "      <th>2</th>\n",
       "      <td>-0.308518</td>\n",
       "      <td>-0.438067</td>\n",
       "      <td>2.511011</td>\n",
       "      <td>-0.415638</td>\n",
       "      <td>0.776350</td>\n",
       "    </tr>\n",
       "    <tr>\n",
       "      <th>3</th>\n",
       "      <td>-2.188621</td>\n",
       "      <td>0.254952</td>\n",
       "      <td>1.555545</td>\n",
       "      <td>0.495771</td>\n",
       "      <td>-0.516634</td>\n",
       "    </tr>\n",
       "    <tr>\n",
       "      <th>4</th>\n",
       "      <td>0.207649</td>\n",
       "      <td>-0.438067</td>\n",
       "      <td>-0.355387</td>\n",
       "      <td>0.146911</td>\n",
       "      <td>0.260130</td>\n",
       "    </tr>\n",
       "    <tr>\n",
       "      <th>...</th>\n",
       "      <td>...</td>\n",
       "      <td>...</td>\n",
       "      <td>...</td>\n",
       "      <td>...</td>\n",
       "      <td>...</td>\n",
       "    </tr>\n",
       "    <tr>\n",
       "      <th>487</th>\n",
       "      <td>0.233952</td>\n",
       "      <td>-0.438067</td>\n",
       "      <td>-0.355387</td>\n",
       "      <td>-0.561852</td>\n",
       "      <td>-0.610163</td>\n",
       "    </tr>\n",
       "    <tr>\n",
       "      <th>488</th>\n",
       "      <td>0.035969</td>\n",
       "      <td>-0.438067</td>\n",
       "      <td>-0.355387</td>\n",
       "      <td>0.372988</td>\n",
       "      <td>-1.070616</td>\n",
       "    </tr>\n",
       "    <tr>\n",
       "      <th>489</th>\n",
       "      <td>-0.250236</td>\n",
       "      <td>-0.438067</td>\n",
       "      <td>-0.355387</td>\n",
       "      <td>0.097152</td>\n",
       "      <td>-0.876942</td>\n",
       "    </tr>\n",
       "    <tr>\n",
       "      <th>490</th>\n",
       "      <td>-0.055823</td>\n",
       "      <td>-0.438067</td>\n",
       "      <td>-0.355387</td>\n",
       "      <td>-0.282727</td>\n",
       "      <td>-0.623933</td>\n",
       "    </tr>\n",
       "    <tr>\n",
       "      <th>491</th>\n",
       "      <td>0.219178</td>\n",
       "      <td>-0.438067</td>\n",
       "      <td>0.600079</td>\n",
       "      <td>-0.343492</td>\n",
       "      <td>-0.899432</td>\n",
       "    </tr>\n",
       "  </tbody>\n",
       "</table>\n",
       "<p>492 rows × 5 columns</p>\n",
       "</div>"
      ],
      "text/plain": [
       "            0         1         2         3         4\n",
       "0    3.407791  3.720047  1.555545  1.210328 -0.545263\n",
       "1    0.253532 -0.438067 -0.355387  0.221112  0.370191\n",
       "2   -0.308518 -0.438067  2.511011 -0.415638  0.776350\n",
       "3   -2.188621  0.254952  1.555545  0.495771 -0.516634\n",
       "4    0.207649 -0.438067 -0.355387  0.146911  0.260130\n",
       "..        ...       ...       ...       ...       ...\n",
       "487  0.233952 -0.438067 -0.355387 -0.561852 -0.610163\n",
       "488  0.035969 -0.438067 -0.355387  0.372988 -1.070616\n",
       "489 -0.250236 -0.438067 -0.355387  0.097152 -0.876942\n",
       "490 -0.055823 -0.438067 -0.355387 -0.282727 -0.623933\n",
       "491  0.219178 -0.438067  0.600079 -0.343492 -0.899432\n",
       "\n",
       "[492 rows x 5 columns]"
      ]
     },
     "execution_count": 168,
     "metadata": {},
     "output_type": "execute_result"
    }
   ],
   "source": [
    "pd.DataFrame(X_train)"
   ]
  },
  {
   "cell_type": "markdown",
   "id": "da25061f",
   "metadata": {
    "cell_id": "00083-9b1febe7-2542-4856-ab99-5487a7f96ec1",
    "deepnote_cell_type": "markdown"
   },
   "source": [
    "## ML Model"
   ]
  },
  {
   "cell_type": "markdown",
   "id": "29c699e8",
   "metadata": {
    "cell_id": "00128-cdd84afb-ded2-4649-97b7-21294f878606",
    "deepnote_cell_type": "markdown"
   },
   "source": [
    "### Decision Tree"
   ]
  },
  {
   "cell_type": "code",
   "execution_count": 169,
   "id": "1c24b165",
   "metadata": {
    "cell_id": "00129-6fc6b813-e257-49db-b6ed-9d2fb4e7db07",
    "deepnote_cell_type": "code",
    "deepnote_to_be_reexecuted": false,
    "execution_millis": 238,
    "execution_start": 1636984451596,
    "source_hash": "485e6cc0"
   },
   "outputs": [
    {
     "name": "stdout",
     "output_type": "stream",
     "text": [
      "0.6585365853658537\n",
      "0.7073170731707317\n",
      "0.7073170731707317\n",
      "0.7398373983739838\n",
      "0.7723577235772358\n",
      "0.7235772357723578\n",
      "0.7154471544715447\n",
      "0.6991869918699187\n",
      "0.7235772357723578\n",
      "0.7154471544715447\n",
      "0.6991869918699187\n",
      "0.7235772357723578\n",
      "0.7154471544715447\n",
      "0.7235772357723578\n",
      "0.7235772357723578\n",
      "0.7235772357723578\n",
      "0.7235772357723578\n",
      "0.7235772357723578\n",
      "0.7235772357723578\n",
      "max value : 0.7723577235772358\n",
      "index of max value : 4\n"
     ]
    }
   ],
   "source": [
    "# Searching for the best max_depth hyperparameter using for-loop\n",
    "from sklearn.tree import DecisionTreeClassifier\n",
    "from sklearn.metrics import confusion_matrix, accuracy_score\n",
    "\n",
    "lst=[]\n",
    "for i in range (1,20):\n",
    "   \n",
    "    classifier = DecisionTreeClassifier(criterion=\"gini\", random_state = 0, max_depth=i)\n",
    "    classifier.fit(X_train, y_train) \n",
    "    y_pred = classifier.predict(X_test)\n",
    "    \n",
    "    accuracy = accuracy_score(y_test, y_pred)\n",
    "    lst.append(accuracy)\n",
    "    print(accuracy)\n",
    "\n",
    "max_value=max(lst)\n",
    "max_value_index=lst.index(max_value)\n",
    "print (\"max value :\",max_value)\n",
    "print (\"index of max value :\",max_value_index)\n",
    "    "
   ]
  },
  {
   "cell_type": "markdown",
   "id": "5f042e11",
   "metadata": {
    "cell_id": "00130-d8a96d8c-3d80-496d-ab78-35eaaa982dd0",
    "deepnote_cell_type": "markdown"
   },
   "source": [
    "####  Training the Decision tree model on the Training set"
   ]
  },
  {
   "cell_type": "code",
   "execution_count": 171,
   "id": "461851a9",
   "metadata": {
    "cell_id": "00131-e4f256df-be91-4bfb-bfe1-bb2ec9993b4a",
    "deepnote_cell_type": "code",
    "deepnote_to_be_reexecuted": false,
    "execution_millis": 13,
    "execution_start": 1636984451839,
    "source_hash": "7a25f568"
   },
   "outputs": [
    {
     "data": {
      "text/plain": [
       "DecisionTreeClassifier(max_depth=5, random_state=0)"
      ]
     },
     "execution_count": 171,
     "metadata": {},
     "output_type": "execute_result"
    }
   ],
   "source": [
    "from sklearn.tree import DecisionTreeClassifier\n",
    "classifier = DecisionTreeClassifier(criterion=\"gini\", random_state = 0, max_depth=max_value_index+1) \n",
    "classifier.fit(X_train, y_train)\n"
   ]
  },
  {
   "cell_type": "markdown",
   "id": "31fe34fb",
   "metadata": {
    "cell_id": "00132-92f06f72-9047-470f-bf76-3540eda9ef63",
    "deepnote_cell_type": "markdown"
   },
   "source": [
    "#### Predicting the Test set Results"
   ]
  },
  {
   "cell_type": "code",
   "execution_count": 172,
   "id": "31a0433d",
   "metadata": {
    "cell_id": "00133-aceaa0e2-3536-4623-b659-f6d7200bf952",
    "deepnote_cell_type": "code",
    "deepnote_to_be_reexecuted": false,
    "execution_millis": 412,
    "execution_start": 1636984451870,
    "source_hash": "95c40d82"
   },
   "outputs": [
    {
     "data": {
      "text/html": [
       "<div>\n",
       "<style scoped>\n",
       "    .dataframe tbody tr th:only-of-type {\n",
       "        vertical-align: middle;\n",
       "    }\n",
       "\n",
       "    .dataframe tbody tr th {\n",
       "        vertical-align: top;\n",
       "    }\n",
       "\n",
       "    .dataframe thead th {\n",
       "        text-align: right;\n",
       "    }\n",
       "</style>\n",
       "<table border=\"1\" class=\"dataframe\">\n",
       "  <thead>\n",
       "    <tr style=\"text-align: right;\">\n",
       "      <th></th>\n",
       "      <th>0</th>\n",
       "      <th>1</th>\n",
       "      <th>2</th>\n",
       "      <th>3</th>\n",
       "      <th>4</th>\n",
       "      <th>5</th>\n",
       "      <th>6</th>\n",
       "      <th>7</th>\n",
       "      <th>8</th>\n",
       "      <th>9</th>\n",
       "      <th>...</th>\n",
       "      <th>113</th>\n",
       "      <th>114</th>\n",
       "      <th>115</th>\n",
       "      <th>116</th>\n",
       "      <th>117</th>\n",
       "      <th>118</th>\n",
       "      <th>119</th>\n",
       "      <th>120</th>\n",
       "      <th>121</th>\n",
       "      <th>122</th>\n",
       "    </tr>\n",
       "  </thead>\n",
       "  <tbody>\n",
       "    <tr>\n",
       "      <th>0</th>\n",
       "      <td>1</td>\n",
       "      <td>1</td>\n",
       "      <td>1</td>\n",
       "      <td>1</td>\n",
       "      <td>1</td>\n",
       "      <td>0</td>\n",
       "      <td>1</td>\n",
       "      <td>0</td>\n",
       "      <td>1</td>\n",
       "      <td>0</td>\n",
       "      <td>...</td>\n",
       "      <td>1</td>\n",
       "      <td>1</td>\n",
       "      <td>0</td>\n",
       "      <td>0</td>\n",
       "      <td>0</td>\n",
       "      <td>0</td>\n",
       "      <td>1</td>\n",
       "      <td>0</td>\n",
       "      <td>0</td>\n",
       "      <td>1</td>\n",
       "    </tr>\n",
       "    <tr>\n",
       "      <th>1</th>\n",
       "      <td>1</td>\n",
       "      <td>1</td>\n",
       "      <td>1</td>\n",
       "      <td>0</td>\n",
       "      <td>1</td>\n",
       "      <td>0</td>\n",
       "      <td>1</td>\n",
       "      <td>0</td>\n",
       "      <td>1</td>\n",
       "      <td>1</td>\n",
       "      <td>...</td>\n",
       "      <td>1</td>\n",
       "      <td>1</td>\n",
       "      <td>0</td>\n",
       "      <td>1</td>\n",
       "      <td>0</td>\n",
       "      <td>0</td>\n",
       "      <td>1</td>\n",
       "      <td>0</td>\n",
       "      <td>1</td>\n",
       "      <td>0</td>\n",
       "    </tr>\n",
       "  </tbody>\n",
       "</table>\n",
       "<p>2 rows × 123 columns</p>\n",
       "</div>"
      ],
      "text/plain": [
       "   0    1    2    3    4    5    6    7    8    9    ...  113  114  115  116  \\\n",
       "0    1    1    1    1    1    0    1    0    1    0  ...    1    1    0    0   \n",
       "1    1    1    1    0    1    0    1    0    1    1  ...    1    1    0    1   \n",
       "\n",
       "   117  118  119  120  121  122  \n",
       "0    0    0    1    0    0    1  \n",
       "1    0    0    1    0    1    0  \n",
       "\n",
       "[2 rows x 123 columns]"
      ]
     },
     "execution_count": 172,
     "metadata": {},
     "output_type": "execute_result"
    }
   ],
   "source": [
    "y_pred = classifier.predict(X_test)\n",
    "\n",
    "compare=[y_pred,y_test]\n",
    "pd.DataFrame(compare)\n"
   ]
  },
  {
   "cell_type": "code",
   "execution_count": 173,
   "id": "41b825ea",
   "metadata": {
    "cell_id": "00134-a610786c-e67a-44b0-99d8-6dcebd6bd9f1",
    "deepnote_cell_type": "code",
    "deepnote_to_be_reexecuted": false,
    "execution_millis": 299453174,
    "execution_start": 1636984452284,
    "source_hash": "34ab8192"
   },
   "outputs": [
    {
     "name": "stdout",
     "output_type": "stream",
     "text": [
      "0.7723577235772358\n"
     ]
    }
   ],
   "source": [
    "accuracy_DT = np.sum(y_pred==y_test)/len(y_test)\n",
    "print(accuracy_DT)"
   ]
  },
  {
   "cell_type": "markdown",
   "id": "7e739cbc",
   "metadata": {
    "cell_id": "00135-c6d2f58e-8781-45ba-af67-1ddbaeee6211",
    "deepnote_cell_type": "markdown"
   },
   "source": [
    "\n",
    "#### Making the Confusion Matrix\n"
   ]
  },
  {
   "cell_type": "code",
   "execution_count": 174,
   "id": "0f253b3b",
   "metadata": {
    "cell_id": "00136-63f6153b-5994-438b-8f67-7ad4bbdd458a",
    "deepnote_cell_type": "code",
    "deepnote_to_be_reexecuted": false,
    "execution_millis": 299453115,
    "execution_start": 1636984452293,
    "scrolled": true,
    "source_hash": "6ed61f68"
   },
   "outputs": [
    {
     "name": "stdout",
     "output_type": "stream",
     "text": [
      "[[49 13]\n",
      " [15 46]]\n",
      "Your Model Accuracy is= 77.23577235772358 %\n"
     ]
    }
   ],
   "source": [
    "from sklearn.metrics import confusion_matrix, accuracy_score\n",
    "cm = confusion_matrix(y_test, y_pred)\n",
    "print(cm)\n",
    "print(\"Your Model Accuracy is=\", accuracy_score(y_test, y_pred)*100, \"%\")\n"
   ]
  },
  {
   "cell_type": "markdown",
   "id": "46700e75",
   "metadata": {},
   "source": [
    "\n",
    "#### Hyperparameter tuning (Optional)\n"
   ]
  },
  {
   "cell_type": "code",
   "execution_count": 175,
   "id": "2f7b3c01",
   "metadata": {},
   "outputs": [
    {
     "name": "stdout",
     "output_type": "stream",
     "text": [
      "Fitting 4 folds for each of 60 candidates, totalling 240 fits\n"
     ]
    },
    {
     "data": {
      "text/plain": [
       "GridSearchCV(cv=4, estimator=DecisionTreeClassifier(random_state=0), n_jobs=-1,\n",
       "             param_grid={'criterion': ['gini', 'entropy'],\n",
       "                         'max_depth': [2, 3, 5, 10, 15, 20],\n",
       "                         'min_samples_leaf': [5, 10, 20, 50, 100]},\n",
       "             scoring='accuracy', verbose=1)"
      ]
     },
     "execution_count": 175,
     "metadata": {},
     "output_type": "execute_result"
    }
   ],
   "source": [
    "from sklearn.model_selection import GridSearchCV\n",
    "\n",
    "dt = DecisionTreeClassifier(random_state=0)\n",
    "\n",
    "\n",
    "# Create the parameter grid based on the results of random search \n",
    "params = {\n",
    "    'max_depth': [2, 3, 5, 10,15, 20],\n",
    "    'min_samples_leaf': [5, 10, 20, 50, 100],\n",
    "    'criterion': [\"gini\", \"entropy\"]\n",
    "}\n",
    "\n",
    "\n",
    "# Instantiate the grid search model\n",
    "grid_search = GridSearchCV(estimator=dt, \n",
    "                           param_grid=params, \n",
    "                           cv=4, n_jobs=-1, verbose=1, scoring = \"accuracy\")\n",
    "\n",
    "\n",
    "#training\n",
    "grid_search.fit(X_train, y_train)\n",
    "\n",
    "\n"
   ]
  },
  {
   "cell_type": "code",
   "execution_count": 176,
   "id": "4f599288",
   "metadata": {},
   "outputs": [
    {
     "data": {
      "text/plain": [
       "DecisionTreeClassifier(max_depth=10, min_samples_leaf=10, random_state=0)"
      ]
     },
     "execution_count": 176,
     "metadata": {},
     "output_type": "execute_result"
    }
   ],
   "source": [
    "grid_search.best_estimator_"
   ]
  },
  {
   "cell_type": "code",
   "execution_count": 177,
   "id": "52e65e21",
   "metadata": {},
   "outputs": [],
   "source": [
    "dt_best = grid_search.best_estimator_"
   ]
  },
  {
   "cell_type": "code",
   "execution_count": 178,
   "id": "582fafb1",
   "metadata": {},
   "outputs": [
    {
     "name": "stdout",
     "output_type": "stream",
     "text": [
      "Train Accuracy : 0.8252032520325203\n",
      "Train Confusion Matrix:\n",
      "[[216  34]\n",
      " [ 52 190]]\n",
      "--------------------------------------------------\n",
      "Test Accuracy : 0.7235772357723578\n",
      "Test Confusion Matrix:\n",
      "[[54  8]\n",
      " [26 35]]\n"
     ]
    }
   ],
   "source": [
    "def evaluate_model(dt_classifier):\n",
    "    print(\"Train Accuracy :\", accuracy_score(y_train, dt_classifier.predict(X_train)))\n",
    "    print(\"Train Confusion Matrix:\")\n",
    "    print(confusion_matrix(y_train, dt_classifier.predict(X_train)))\n",
    "    print(\"-\"*50)\n",
    "    print(\"Test Accuracy :\", accuracy_score(y_test, dt_classifier.predict(X_test)))\n",
    "    print(\"Test Confusion Matrix:\")\n",
    "    print(confusion_matrix(y_test, dt_classifier.predict(X_test)))\n",
    "    \n",
    "evaluate_model(dt_best)"
   ]
  },
  {
   "cell_type": "markdown",
   "id": "20a28105",
   "metadata": {},
   "source": [
    "\n",
    "#### Credit Card Approval Estimator\n"
   ]
  },
  {
   "cell_type": "code",
   "execution_count": 180,
   "id": "7a5c72f8",
   "metadata": {},
   "outputs": [
    {
     "name": "stdout",
     "output_type": "stream",
     "text": [
      "Credit card application will be approved\n"
     ]
    }
   ],
   "source": [
    "result =classifier.predict(  sc.transform( [[   28.749890366, 0, 0, 89082, 217.32115468  ]] )   )\n",
    "if  result[0] == 0:\n",
    "    print( \"Credit card application will be approved\")\n",
    "else: \n",
    "    print( \"Credit card application will be declined\")\n"
   ]
  },
  {
   "cell_type": "code",
   "execution_count": 181,
   "id": "12a20274",
   "metadata": {},
   "outputs": [
    {
     "name": "stdout",
     "output_type": "stream",
     "text": [
      "Credit card application will be declined\n"
     ]
    }
   ],
   "source": [
    "result =classifier.predict(  sc.transform( [[  91.612600, 6.0,2.0, 167164.0, 111.588603  ]] )   )\n",
    "if  result[0] == 0:\n",
    "    print( \"Credit card application will be approved\")\n",
    "else: \n",
    "    print( \"Credit card application will be declined\")\n"
   ]
  }
 ],
 "metadata": {
  "deepnote": {},
  "deepnote_execution_queue": [],
  "deepnote_notebook_id": "a0d67f6b-e98f-4889-be15-7a1ad5862a90",
  "kernelspec": {
   "display_name": "Python 3",
   "language": "python",
   "name": "python3"
  },
  "language_info": {
   "codemirror_mode": {
    "name": "ipython",
    "version": 3
   },
   "file_extension": ".py",
   "mimetype": "text/x-python",
   "name": "python",
   "nbconvert_exporter": "python",
   "pygments_lexer": "ipython3",
   "version": "3.8.8"
  },
  "toc": {
   "base_numbering": 1,
   "nav_menu": {},
   "number_sections": true,
   "sideBar": true,
   "skip_h1_title": false,
   "title_cell": "Table of Contents",
   "title_sidebar": "Contents",
   "toc_cell": false,
   "toc_position": {
    "height": "calc(100% - 180px)",
    "left": "10px",
    "top": "150px",
    "width": "293.011px"
   },
   "toc_section_display": true,
   "toc_window_display": true
  },
  "varInspector": {
   "cols": {
    "lenName": 16,
    "lenType": 16,
    "lenVar": 40
   },
   "kernels_config": {
    "python": {
     "delete_cmd_postfix": "",
     "delete_cmd_prefix": "del ",
     "library": "var_list.py",
     "varRefreshCmd": "print(var_dic_list())"
    },
    "r": {
     "delete_cmd_postfix": ") ",
     "delete_cmd_prefix": "rm(",
     "library": "var_list.r",
     "varRefreshCmd": "cat(var_dic_list()) "
    }
   },
   "types_to_exclude": [
    "module",
    "function",
    "builtin_function_or_method",
    "instance",
    "_Feature"
   ],
   "window_display": false
  }
 },
 "nbformat": 4,
 "nbformat_minor": 5
}
